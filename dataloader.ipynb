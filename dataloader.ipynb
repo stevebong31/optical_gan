{
 "cells": [
  {
   "cell_type": "code",
   "execution_count": 75,
   "metadata": {},
   "outputs": [
    {
     "name": "stdout",
     "output_type": "stream",
     "text": [
      "Overwriting data_list_loader.py\n"
     ]
    }
   ],
   "source": [
    "%%writefile data_list_loader.py\n",
    "\n",
    "import os, glob, cv2, math, csv, tqdm, random\n",
    "import numpy as np\n",
    "\n",
    "from keras.optimizers import Adam\n",
    "%matplotlib inline\n",
    "import matplotlib.pyplot as plt\n",
    "\n",
    "def MPI_dataset_list_loader(mpi_path):\n",
    "    image_path = mpi_path + '/training/clean'\n",
    "    lab_path = mpi_path + '/training/flow'\n",
    "    dir_lists = sorted(os.listdir(image_path))\n",
    "    total = []\n",
    "    for i in dir_lists:\n",
    "        paths = sorted(glob.glob(image_path+'/%s/*.png'%i))\n",
    "        x = [[paths[i], paths[i+1]] for i in range(len(paths)-1)]\n",
    "        for j in x:\n",
    "            total.append(j)    \n",
    "    dir_lists_lab = sorted(os.listdir(lab_path))\n",
    "    total_lab = []\n",
    "    for i in dir_lists_lab:\n",
    "        paths_lab = sorted(glob.glob(lab_path+'/%s/*.flo'%i))\n",
    "        x = [[paths_lab[i]] for i in range(len(paths_lab))]\n",
    "        for j in x:\n",
    "            total_lab.append(j)\n",
    "            \n",
    "    return total, total_lab\n",
    "\n",
    "def kitti_dataset_list_loader(kitti_path):\n",
    "    image_path = kitti_path + '/flow/training/colored_0/'\n",
    "    lab_path = kitti_path + '/flow/training/flow_noc/'\n",
    "    image_lists = sorted(os.listdir(image_path))\n",
    "    total = []\n",
    "    x = [[image_path+image_lists[i], image_path+image_lists[i+1]] for i in range(0,len(image_lists)-1,2)]\n",
    "    for j in x:\n",
    "        total.append(j)    \n",
    "    lab_lists = sorted(os.listdir(lab_path))\n",
    "    total_lab = []\n",
    "    x = [[lab_path+lab_lists[i]] for i in range(len(lab_lists))]\n",
    "    for j in x:\n",
    "        total_lab.append(j)\n",
    "    return total, total_lab\n",
    "\n",
    "def flying_dataset_list_loader(flying_path):\n",
    "    image_path = flying_path + '/data/'\n",
    "    lab_path = flying_path + '/labels/'\n",
    "    image_lists = sorted(os.listdir(image_path))\n",
    "    total = []\n",
    "    x = [[image_path+image_lists[i], image_path+image_lists[i+1]] for i in range(0,len(image_lists)-1,2)]\n",
    "    for j in x:\n",
    "        total.append(j)    \n",
    "    lab_lists = sorted(os.listdir(lab_path))\n",
    "    total_lab = []\n",
    "    x = [[lab_path+lab_lists[i]] for i in range(len(lab_lists))]\n",
    "    for j in x:\n",
    "        total_lab.append(j)\n",
    "    return total, total_lab"
   ]
  },
  {
   "cell_type": "code",
   "execution_count": 69,
   "metadata": {},
   "outputs": [],
   "source": [
    "import data_list_loader"
   ]
  },
  {
   "cell_type": "code",
   "execution_count": 70,
   "metadata": {},
   "outputs": [],
   "source": [
    "mpi = '/data1/flow/MPI'\n",
    "fly = '/data1/flow/FlyingChairs_release'\n",
    "kitti = '/data1/flow/Kitti'\n",
    "\n",
    "mpi_img, mpi_lab = data_list_loader.MPI_dataset_list_loader(mpi)\n",
    "kitti_img, kitti_lab = data_list_loader.kitti_dataset_list_loader(kitti)\n",
    "fly_img, fly_lab = data_list_loader.flying_dataset_list_loader(fly)"
   ]
  },
  {
   "cell_type": "code",
   "execution_count": 71,
   "metadata": {},
   "outputs": [
    {
     "name": "stdout",
     "output_type": "stream",
     "text": [
      "1041 194 22872\n"
     ]
    }
   ],
   "source": [
    "print(len(mpi_img),len(kitti_img),len(fly_img))"
   ]
  },
  {
   "cell_type": "code",
   "execution_count": 73,
   "metadata": {},
   "outputs": [],
   "source": [
    "total_img = mpi_img + kitti_img + fly_img\n",
    "total_lab = mpi_lab + kitti_lab + fly_lab"
   ]
  },
  {
   "cell_type": "code",
   "execution_count": 74,
   "metadata": {},
   "outputs": [
    {
     "name": "stdout",
     "output_type": "stream",
     "text": [
      "24107 24107\n"
     ]
    }
   ],
   "source": [
    "print(len(total_img),len(total_lab))"
   ]
  },
  {
   "cell_type": "code",
   "execution_count": null,
   "metadata": {},
   "outputs": [],
   "source": []
  }
 ],
 "metadata": {
  "kernelspec": {
   "display_name": "Python 3",
   "language": "python",
   "name": "python3"
  },
  "language_info": {
   "codemirror_mode": {
    "name": "ipython",
    "version": 3
   },
   "file_extension": ".py",
   "mimetype": "text/x-python",
   "name": "python",
   "nbconvert_exporter": "python",
   "pygments_lexer": "ipython3",
   "version": "3.5.2"
  }
 },
 "nbformat": 4,
 "nbformat_minor": 2
}
